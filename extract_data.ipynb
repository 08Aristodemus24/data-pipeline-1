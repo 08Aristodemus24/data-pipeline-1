{
 "cells": [
  {
   "cell_type": "code",
   "execution_count": 2,
   "metadata": {},
   "outputs": [],
   "source": [
    "import os\n",
    "import requests\n",
    "from concurrent.futures import ThreadPoolExecutor"
   ]
  },
  {
   "cell_type": "code",
   "execution_count": 21,
   "metadata": {},
   "outputs": [],
   "source": [
    "authors = [\n",
    "    \"J.K. Rowling\",\n",
    "    \"Leo Tolstoy\",\n",
    "    \"Fyodor Dostoevsky\",\n",
    "    \"Jordan Peterson\",\n",
    "    \"Carl Jung\",\n",
    "    \"Viktor Frankl\",\n",
    "    \"Arthur Schopenhauer\",\n",
    "    \"Friedrich Nietzsche\",\n",
    "    \"Jocko Willink\",\n",
    "    \"Earnest Becker\",\n",
    "    \"Bell Hooks\",\n",
    "    \"Esther Perel\",\n",
    "    \"Simone De Beauvoir\",\n",
    "    \"Johann Wolfgang von Goethe\",\n",
    "    \"William Shakespeare\",\n",
    "    \"Logan Ury\",\n",
    "    \"Emil Cioran\",\n",
    "    \"Aleksandr Solzhenitsyn\",\n",
    "    \"Jean Paul Sarte\",\n",
    "    \"Soren Kierkegaard\",\n",
    "    \"Immanuel Kant\",\n",
    "    \"Mark Manson\",\n",
    "    \"John Gottman\",\n",
    "    \"Albert Camus\",\n",
    "    \"J.R.R. Tolkien\",\n",
    "    \"C.S. Lewis\",\n",
    "]"
   ]
  },
  {
   "cell_type": "code",
   "execution_count": 24,
   "metadata": {},
   "outputs": [
    {
     "data": {
      "text/plain": [
       "['J.K.%Rowling',\n",
       " 'Leo%Tolstoy',\n",
       " 'Fyodor%Dostoevsky',\n",
       " 'Jordan%B.%Peterson',\n",
       " 'Carl%Jung',\n",
       " 'Viktor%Frankl',\n",
       " 'Arthur%Schopenhauer',\n",
       " 'Friedrich%Nietzsche',\n",
       " 'Jocko%Willink',\n",
       " 'Earnest%Becker',\n",
       " 'Bell%Hooks',\n",
       " 'Esther%Perel',\n",
       " 'Simone%De%Beauvoir',\n",
       " 'Johann%Wolfgang%von%Goethe',\n",
       " 'William%Shakespeare',\n",
       " 'Logan%Ury',\n",
       " 'Emil%Cioran',\n",
       " 'Aleksandr%Solzhenitsyn',\n",
       " 'Jean%Paul%Sarte',\n",
       " 'Soren%Kierkegaard']"
      ]
     },
     "execution_count": 24,
     "metadata": {},
     "output_type": "execute_result"
    }
   ],
   "source": [
    "formatted_authors = [author.replace(' ', \"%\") for author in authors]\n",
    "formatted_authors"
   ]
  },
  {
   "cell_type": "code",
   "execution_count": null,
   "metadata": {},
   "outputs": [
    {
     "data": {
      "text/plain": [
       "{'numFound': 3,\n",
       " 'start': 0,\n",
       " 'numFoundExact': True,\n",
       " 'docs': [{'alternate_names': ['Soren Kierkegaard',\n",
       "    'Sören Kierkegaard',\n",
       "    'Soeren Kirkegaard',\n",
       "    'Sören Aabye Kierkegaard',\n",
       "    'S. Kierkegaard',\n",
       "    'Soven Aabye Kierkegaard',\n",
       "    'Seren Aabye Kierkegaard',\n",
       "    'Nicolaus Notabene',\n",
       "    'Johannes Climacus',\n",
       "    'Søren Kierkeggard',\n",
       "    'Soren Kierkegard'],\n",
       "   'birth_date': '5 May 1813',\n",
       "   'death_date': '11 November 1855',\n",
       "   'key': 'OL233017A',\n",
       "   'name': 'Søren Kierkegaard',\n",
       "   'top_subjects': ['Philosophy',\n",
       "    'Christianity',\n",
       "    'Søren Kierkegaard (1813-1855)',\n",
       "    'Religion',\n",
       "    'Spiritual life',\n",
       "    'Kierkegaard, soren, 1813-1855',\n",
       "    'Christian life',\n",
       "    '19th century',\n",
       "    'Sin',\n",
       "    'Collected works'],\n",
       "   'top_work': 'Fear and Trembling',\n",
       "   'type': 'author',\n",
       "   'work_count': 1068,\n",
       "   'ratings_average': 3.9285715,\n",
       "   'ratings_sortable': 3.448329,\n",
       "   'ratings_count': 28,\n",
       "   'ratings_count_1': 2,\n",
       "   'ratings_count_2': 0,\n",
       "   'ratings_count_3': 6,\n",
       "   'ratings_count_4': 10,\n",
       "   'ratings_count_5': 10,\n",
       "   'want_to_read_count': 562,\n",
       "   'already_read_count': 63,\n",
       "   'currently_reading_count': 35,\n",
       "   'readinglog_count': 660,\n",
       "   '_version_': 1820612159186403328},\n",
       "  {'key': 'OL9902333A',\n",
       "   'name': 'N. Ekrem Duzen, Erkan Uzun, Erkil Ozkýyacý, Soren Kierkegaard, Nadir Cakýr',\n",
       "   'top_work': 'Korku ve Titreme',\n",
       "   'type': 'author',\n",
       "   'work_count': 2,\n",
       "   '_version_': 1796108899075489806},\n",
       "  {'key': 'OL3823633A',\n",
       "   'name': 'Revision by Gorrissen Federspiel Kierkegaard, Law Firm, of Copenhagen. Jan Erlund and Søren Fogh, attorneys.',\n",
       "   'top_work': 'Martindale-Hubbell Law Digest',\n",
       "   'type': 'author',\n",
       "   'work_count': 2,\n",
       "   '_version_': 1796022715606368271}]}"
      ]
     },
     "execution_count": 23,
     "metadata": {},
     "output_type": "execute_result"
    }
   ],
   "source": [
    "def helper(row):\n",
    "    pass\n",
    "\n",
    "with ThreadPoolExecutor() as exe:\n",
    "    \n",
    "response = requests.get(f\"https://openlibrary.org/search/authors.json?q={author}\")\n",
    "response.json()"
   ]
  },
  {
   "cell_type": "code",
   "execution_count": null,
   "metadata": {},
   "outputs": [],
   "source": []
  }
 ],
 "metadata": {
  "kernelspec": {
   "display_name": "eeg-ml-pipeline",
   "language": "python",
   "name": "python3"
  },
  "language_info": {
   "codemirror_mode": {
    "name": "ipython",
    "version": 3
   },
   "file_extension": ".py",
   "mimetype": "text/x-python",
   "name": "python",
   "nbconvert_exporter": "python",
   "pygments_lexer": "ipython3",
   "version": "3.12.3"
  }
 },
 "nbformat": 4,
 "nbformat_minor": 2
}
